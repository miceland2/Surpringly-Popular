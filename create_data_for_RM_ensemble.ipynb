{
  "cells": [
    {
      "cell_type": "code",
      "execution_count": null,
      "metadata": {
        "colab": {
          "base_uri": "https://localhost:8080/"
        },
        "id": "UmY8G3hrmXcG",
        "outputId": "77df20f8-c026-4f31-e9c2-4ce5ae09cfaa"
      },
      "outputs": [
        {
          "name": "stdout",
          "output_type": "stream",
          "text": [
            "Requirement already satisfied: datasets in /usr/local/lib/python3.10/dist-packages (2.21.0)\n",
            "Requirement already satisfied: transformers in /usr/local/lib/python3.10/dist-packages (4.44.0)\n",
            "Requirement already satisfied: filelock in /usr/local/lib/python3.10/dist-packages (from datasets) (3.15.4)\n",
            "Requirement already satisfied: numpy>=1.17 in /usr/local/lib/python3.10/dist-packages (from datasets) (1.26.4)\n",
            "Requirement already satisfied: pyarrow>=15.0.0 in /usr/local/lib/python3.10/dist-packages (from datasets) (17.0.0)\n",
            "Requirement already satisfied: dill<0.3.9,>=0.3.0 in /usr/local/lib/python3.10/dist-packages (from datasets) (0.3.8)\n",
            "Requirement already satisfied: pandas in /usr/local/lib/python3.10/dist-packages (from datasets) (2.1.4)\n",
            "Requirement already satisfied: requests>=2.32.2 in /usr/local/lib/python3.10/dist-packages (from datasets) (2.32.3)\n",
            "Requirement already satisfied: tqdm>=4.66.3 in /usr/local/lib/python3.10/dist-packages (from datasets) (4.66.5)\n",
            "Requirement already satisfied: xxhash in /usr/local/lib/python3.10/dist-packages (from datasets) (3.5.0)\n",
            "Requirement already satisfied: multiprocess in /usr/local/lib/python3.10/dist-packages (from datasets) (0.70.16)\n",
            "Requirement already satisfied: fsspec<=2024.6.1,>=2023.1.0 in /usr/local/lib/python3.10/dist-packages (from fsspec[http]<=2024.6.1,>=2023.1.0->datasets) (2024.6.1)\n",
            "Requirement already satisfied: aiohttp in /usr/local/lib/python3.10/dist-packages (from datasets) (3.10.2)\n",
            "Requirement already satisfied: huggingface-hub>=0.21.2 in /usr/local/lib/python3.10/dist-packages (from datasets) (0.23.5)\n",
            "Requirement already satisfied: packaging in /usr/local/lib/python3.10/dist-packages (from datasets) (24.1)\n",
            "Requirement already satisfied: pyyaml>=5.1 in /usr/local/lib/python3.10/dist-packages (from datasets) (6.0.2)\n",
            "Requirement already satisfied: regex!=2019.12.17 in /usr/local/lib/python3.10/dist-packages (from transformers) (2024.5.15)\n",
            "Requirement already satisfied: safetensors>=0.4.1 in /usr/local/lib/python3.10/dist-packages (from transformers) (0.4.4)\n",
            "Requirement already satisfied: tokenizers<0.20,>=0.19 in /usr/local/lib/python3.10/dist-packages (from transformers) (0.19.1)\n",
            "Requirement already satisfied: aiohappyeyeballs>=2.3.0 in /usr/local/lib/python3.10/dist-packages (from aiohttp->datasets) (2.3.5)\n",
            "Requirement already satisfied: aiosignal>=1.1.2 in /usr/local/lib/python3.10/dist-packages (from aiohttp->datasets) (1.3.1)\n",
            "Requirement already satisfied: attrs>=17.3.0 in /usr/local/lib/python3.10/dist-packages (from aiohttp->datasets) (24.2.0)\n",
            "Requirement already satisfied: frozenlist>=1.1.1 in /usr/local/lib/python3.10/dist-packages (from aiohttp->datasets) (1.4.1)\n",
            "Requirement already satisfied: multidict<7.0,>=4.5 in /usr/local/lib/python3.10/dist-packages (from aiohttp->datasets) (6.0.5)\n",
            "Requirement already satisfied: yarl<2.0,>=1.0 in /usr/local/lib/python3.10/dist-packages (from aiohttp->datasets) (1.9.4)\n",
            "Requirement already satisfied: async-timeout<5.0,>=4.0 in /usr/local/lib/python3.10/dist-packages (from aiohttp->datasets) (4.0.3)\n",
            "Requirement already satisfied: typing-extensions>=3.7.4.3 in /usr/local/lib/python3.10/dist-packages (from huggingface-hub>=0.21.2->datasets) (4.12.2)\n",
            "Requirement already satisfied: charset-normalizer<4,>=2 in /usr/local/lib/python3.10/dist-packages (from requests>=2.32.2->datasets) (3.3.2)\n",
            "Requirement already satisfied: idna<4,>=2.5 in /usr/local/lib/python3.10/dist-packages (from requests>=2.32.2->datasets) (3.7)\n",
            "Requirement already satisfied: urllib3<3,>=1.21.1 in /usr/local/lib/python3.10/dist-packages (from requests>=2.32.2->datasets) (2.0.7)\n",
            "Requirement already satisfied: certifi>=2017.4.17 in /usr/local/lib/python3.10/dist-packages (from requests>=2.32.2->datasets) (2024.7.4)\n",
            "Requirement already satisfied: python-dateutil>=2.8.2 in /usr/local/lib/python3.10/dist-packages (from pandas->datasets) (2.8.2)\n",
            "Requirement already satisfied: pytz>=2020.1 in /usr/local/lib/python3.10/dist-packages (from pandas->datasets) (2024.1)\n",
            "Requirement already satisfied: tzdata>=2022.1 in /usr/local/lib/python3.10/dist-packages (from pandas->datasets) (2024.1)\n",
            "Requirement already satisfied: six>=1.5 in /usr/local/lib/python3.10/dist-packages (from python-dateutil>=2.8.2->pandas->datasets) (1.16.0)\n"
          ]
        }
      ],
      "source": [
        "!pip install datasets transformers"
      ]
    },
    {
      "cell_type": "code",
      "execution_count": null,
      "metadata": {
        "colab": {
          "base_uri": "https://localhost:8080/"
        },
        "id": "CYZe7fyYlih8",
        "outputId": "ad483a4a-5d94-4326-af1f-12277cc5b4cd"
      },
      "outputs": [
        {
          "name": "stdout",
          "output_type": "stream",
          "text": [
            "Requirement already satisfied: accelerate in /usr/local/lib/python3.10/dist-packages (0.33.0)\n",
            "Requirement already satisfied: numpy<2.0.0,>=1.17 in /usr/local/lib/python3.10/dist-packages (from accelerate) (1.26.4)\n",
            "Requirement already satisfied: packaging>=20.0 in /usr/local/lib/python3.10/dist-packages (from accelerate) (24.1)\n",
            "Requirement already satisfied: psutil in /usr/local/lib/python3.10/dist-packages (from accelerate) (5.9.5)\n",
            "Requirement already satisfied: pyyaml in /usr/local/lib/python3.10/dist-packages (from accelerate) (6.0.2)\n",
            "Requirement already satisfied: torch>=1.10.0 in /usr/local/lib/python3.10/dist-packages (from accelerate) (2.2.0)\n",
            "Requirement already satisfied: huggingface-hub>=0.21.0 in /usr/local/lib/python3.10/dist-packages (from accelerate) (0.23.5)\n",
            "Requirement already satisfied: safetensors>=0.3.1 in /usr/local/lib/python3.10/dist-packages (from accelerate) (0.4.4)\n",
            "Requirement already satisfied: filelock in /usr/local/lib/python3.10/dist-packages (from huggingface-hub>=0.21.0->accelerate) (3.15.4)\n",
            "Requirement already satisfied: fsspec>=2023.5.0 in /usr/local/lib/python3.10/dist-packages (from huggingface-hub>=0.21.0->accelerate) (2024.6.1)\n",
            "Requirement already satisfied: requests in /usr/local/lib/python3.10/dist-packages (from huggingface-hub>=0.21.0->accelerate) (2.32.3)\n",
            "Requirement already satisfied: tqdm>=4.42.1 in /usr/local/lib/python3.10/dist-packages (from huggingface-hub>=0.21.0->accelerate) (4.66.5)\n",
            "Requirement already satisfied: typing-extensions>=3.7.4.3 in /usr/local/lib/python3.10/dist-packages (from huggingface-hub>=0.21.0->accelerate) (4.12.2)\n",
            "Requirement already satisfied: sympy in /usr/local/lib/python3.10/dist-packages (from torch>=1.10.0->accelerate) (1.13.1)\n",
            "Requirement already satisfied: networkx in /usr/local/lib/python3.10/dist-packages (from torch>=1.10.0->accelerate) (3.3)\n",
            "Requirement already satisfied: jinja2 in /usr/local/lib/python3.10/dist-packages (from torch>=1.10.0->accelerate) (3.1.4)\n",
            "Requirement already satisfied: nvidia-cuda-nvrtc-cu12==12.1.105 in /usr/local/lib/python3.10/dist-packages (from torch>=1.10.0->accelerate) (12.1.105)\n",
            "Requirement already satisfied: nvidia-cuda-runtime-cu12==12.1.105 in /usr/local/lib/python3.10/dist-packages (from torch>=1.10.0->accelerate) (12.1.105)\n",
            "Requirement already satisfied: nvidia-cuda-cupti-cu12==12.1.105 in /usr/local/lib/python3.10/dist-packages (from torch>=1.10.0->accelerate) (12.1.105)\n",
            "Requirement already satisfied: nvidia-cudnn-cu12==8.9.2.26 in /usr/local/lib/python3.10/dist-packages (from torch>=1.10.0->accelerate) (8.9.2.26)\n",
            "Requirement already satisfied: nvidia-cublas-cu12==12.1.3.1 in /usr/local/lib/python3.10/dist-packages (from torch>=1.10.0->accelerate) (12.1.3.1)\n",
            "Requirement already satisfied: nvidia-cufft-cu12==11.0.2.54 in /usr/local/lib/python3.10/dist-packages (from torch>=1.10.0->accelerate) (11.0.2.54)\n",
            "Requirement already satisfied: nvidia-curand-cu12==10.3.2.106 in /usr/local/lib/python3.10/dist-packages (from torch>=1.10.0->accelerate) (10.3.2.106)\n",
            "Requirement already satisfied: nvidia-cusolver-cu12==11.4.5.107 in /usr/local/lib/python3.10/dist-packages (from torch>=1.10.0->accelerate) (11.4.5.107)\n",
            "Requirement already satisfied: nvidia-cusparse-cu12==12.1.0.106 in /usr/local/lib/python3.10/dist-packages (from torch>=1.10.0->accelerate) (12.1.0.106)\n",
            "Requirement already satisfied: nvidia-nccl-cu12==2.19.3 in /usr/local/lib/python3.10/dist-packages (from torch>=1.10.0->accelerate) (2.19.3)\n",
            "Requirement already satisfied: nvidia-nvtx-cu12==12.1.105 in /usr/local/lib/python3.10/dist-packages (from torch>=1.10.0->accelerate) (12.1.105)\n",
            "Requirement already satisfied: triton==2.2.0 in /usr/local/lib/python3.10/dist-packages (from torch>=1.10.0->accelerate) (2.2.0)\n",
            "Requirement already satisfied: nvidia-nvjitlink-cu12 in /usr/local/lib/python3.10/dist-packages (from nvidia-cusolver-cu12==11.4.5.107->torch>=1.10.0->accelerate) (12.6.20)\n",
            "Requirement already satisfied: MarkupSafe>=2.0 in /usr/local/lib/python3.10/dist-packages (from jinja2->torch>=1.10.0->accelerate) (2.1.5)\n",
            "Requirement already satisfied: charset-normalizer<4,>=2 in /usr/local/lib/python3.10/dist-packages (from requests->huggingface-hub>=0.21.0->accelerate) (3.3.2)\n",
            "Requirement already satisfied: idna<4,>=2.5 in /usr/local/lib/python3.10/dist-packages (from requests->huggingface-hub>=0.21.0->accelerate) (3.7)\n",
            "Requirement already satisfied: urllib3<3,>=1.21.1 in /usr/local/lib/python3.10/dist-packages (from requests->huggingface-hub>=0.21.0->accelerate) (2.0.7)\n",
            "Requirement already satisfied: certifi>=2017.4.17 in /usr/local/lib/python3.10/dist-packages (from requests->huggingface-hub>=0.21.0->accelerate) (2024.7.4)\n",
            "Requirement already satisfied: mpmath<1.4,>=1.1.0 in /usr/local/lib/python3.10/dist-packages (from sympy->torch>=1.10.0->accelerate) (1.3.0)\n"
          ]
        }
      ],
      "source": [
        "!pip install -U accelerate"
      ]
    },
    {
      "cell_type": "code",
      "execution_count": null,
      "metadata": {
        "id": "sKq4fdvzmyLn"
      },
      "outputs": [],
      "source": [
        "from transformers import AutoTokenizer, AutoModelForMultipleChoice\n",
        "from datasets import load_dataset"
      ]
    },
    {
      "cell_type": "code",
      "execution_count": null,
      "metadata": {
        "colab": {
          "background_save": true,
          "base_uri": "https://localhost:8080/"
        },
        "id": "2Oo9HzMKm1xb",
        "outputId": "cf8ab54a-8197-4880-90fa-7e9eb593e673"
      },
      "outputs": [
        {
          "name": "stderr",
          "output_type": "stream",
          "text": [
            "/usr/local/lib/python3.10/dist-packages/huggingface_hub/utils/_token.py:89: UserWarning: \n",
            "The secret `HF_TOKEN` does not exist in your Colab secrets.\n",
            "To authenticate with the Hugging Face Hub, create a token in your settings tab (https://huggingface.co/settings/tokens), set it as secret in your Google Colab and restart your session.\n",
            "You will be able to reuse this secret in all of your notebooks.\n",
            "Please note that authentication is recommended but still optional to access public models or datasets.\n",
            "  warnings.warn(\n"
          ]
        }
      ],
      "source": [
        "swag = load_dataset(\"swag\", \"regular\")"
      ]
    },
    {
      "cell_type": "code",
      "execution_count": null,
      "metadata": {
        "colab": {
          "background_save": true
        },
        "id": "RcfyA4MsnpsU"
      },
      "outputs": [],
      "source": [
        "train_dataset=swag[\"train\"]"
      ]
    },
    {
      "cell_type": "code",
      "execution_count": null,
      "metadata": {
        "colab": {
          "background_save": true,
          "base_uri": "https://localhost:8080/"
        },
        "id": "GfOC-0u0nsfZ",
        "outputId": "15998572-711e-4407-86bf-5dc5925ac495"
      },
      "outputs": [
        {
          "data": {
            "text/plain": [
              "{'video-id': 'anetv_jkn6uvmqwh4',\n",
              " 'fold-ind': '3416',\n",
              " 'startphrase': 'Members of the procession walk down the street holding small horn brass instruments. A drum line',\n",
              " 'sent1': 'Members of the procession walk down the street holding small horn brass instruments.',\n",
              " 'sent2': 'A drum line',\n",
              " 'gold-source': 'gold',\n",
              " 'ending0': 'passes by walking down the street playing their instruments.',\n",
              " 'ending1': 'has heard approaching them.',\n",
              " 'ending2': \"arrives and they're outside dancing and asleep.\",\n",
              " 'ending3': 'turns the lead singer watches the performance.',\n",
              " 'label': 0}"
            ]
          },
          "execution_count": 6,
          "metadata": {},
          "output_type": "execute_result"
        }
      ],
      "source": [
        "train_dataset[0]"
      ]
    },
    {
      "cell_type": "code",
      "execution_count": null,
      "metadata": {
        "colab": {
          "background_save": true,
          "base_uri": "https://localhost:8080/"
        },
        "id": "dR6rs7lRnvlp",
        "outputId": "a105ffe1-b67e-4579-b5b3-86a5cd457837"
      },
      "outputs": [
        {
          "name": "stderr",
          "output_type": "stream",
          "text": [
            "/usr/local/lib/python3.10/dist-packages/transformers/tokenization_utils_base.py:1601: FutureWarning: `clean_up_tokenization_spaces` was not set. It will be set to `True` by default. This behavior will be depracted in transformers v4.45, and will be then set to `False` by default. For more details check this issue: https://github.com/huggingface/transformers/issues/31884\n",
            "  warnings.warn(\n",
            "If you want to use `BertLMHeadModel` as a standalone, add `is_decoder=True.`\n",
            "/usr/local/lib/python3.10/dist-packages/transformers/tokenization_utils_base.py:1601: FutureWarning: `clean_up_tokenization_spaces` was not set. It will be set to `True` by default. This behavior will be depracted in transformers v4.45, and will be then set to `False` by default. For more details check this issue: https://github.com/huggingface/transformers/issues/31884\n",
            "  warnings.warn(\n",
            "A parameter name that contains `beta` will be renamed internally to `bias`. Please use a different name to suppress this warning.\n",
            "A parameter name that contains `gamma` will be renamed internally to `weight`. Please use a different name to suppress this warning.\n",
            "A parameter name that contains `beta` will be renamed internally to `bias`. Please use a different name to suppress this warning.\n",
            "A parameter name that contains `gamma` will be renamed internally to `weight`. Please use a different name to suppress this warning.\n",
            "A parameter name that contains `beta` will be renamed internally to `bias`. Please use a different name to suppress this warning.\n",
            "A parameter name that contains `gamma` will be renamed internally to `weight`. Please use a different name to suppress this warning.\n",
            "A parameter name that contains `beta` will be renamed internally to `bias`. Please use a different name to suppress this warning.\n",
            "A parameter name that contains `gamma` will be renamed internally to `weight`. Please use a different name to suppress this warning.\n",
            "A parameter name that contains `beta` will be renamed internally to `bias`. Please use a different name to suppress this warning.\n",
            "A parameter name that contains `gamma` will be renamed internally to `weight`. Please use a different name to suppress this warning.\n",
            "A parameter name that contains `beta` will be renamed internally to `bias`. Please use a different name to suppress this warning.\n",
            "A parameter name that contains `gamma` will be renamed internally to `weight`. Please use a different name to suppress this warning.\n",
            "A parameter name that contains `beta` will be renamed internally to `bias`. Please use a different name to suppress this warning.\n",
            "A parameter name that contains `gamma` will be renamed internally to `weight`. Please use a different name to suppress this warning.\n",
            "A parameter name that contains `beta` will be renamed internally to `bias`. Please use a different name to suppress this warning.\n",
            "A parameter name that contains `gamma` will be renamed internally to `weight`. Please use a different name to suppress this warning.\n",
            "A parameter name that contains `beta` will be renamed internally to `bias`. Please use a different name to suppress this warning.\n",
            "A parameter name that contains `gamma` will be renamed internally to `weight`. Please use a different name to suppress this warning.\n",
            "A parameter name that contains `beta` will be renamed internally to `bias`. Please use a different name to suppress this warning.\n",
            "A parameter name that contains `gamma` will be renamed internally to `weight`. Please use a different name to suppress this warning.\n",
            "A parameter name that contains `beta` will be renamed internally to `bias`. Please use a different name to suppress this warning.\n",
            "A parameter name that contains `gamma` will be renamed internally to `weight`. Please use a different name to suppress this warning.\n",
            "A parameter name that contains `beta` will be renamed internally to `bias`. Please use a different name to suppress this warning.\n",
            "A parameter name that contains `gamma` will be renamed internally to `weight`. Please use a different name to suppress this warning.\n",
            "A parameter name that contains `beta` will be renamed internally to `bias`. Please use a different name to suppress this warning.\n",
            "A parameter name that contains `gamma` will be renamed internally to `weight`. Please use a different name to suppress this warning.\n",
            "A parameter name that contains `beta` will be renamed internally to `bias`. Please use a different name to suppress this warning.\n",
            "A parameter name that contains `gamma` will be renamed internally to `weight`. Please use a different name to suppress this warning.\n",
            "A parameter name that contains `beta` will be renamed internally to `bias`. Please use a different name to suppress this warning.\n",
            "A parameter name that contains `gamma` will be renamed internally to `weight`. Please use a different name to suppress this warning.\n",
            "A parameter name that contains `beta` will be renamed internally to `bias`. Please use a different name to suppress this warning.\n",
            "A parameter name that contains `gamma` will be renamed internally to `weight`. Please use a different name to suppress this warning.\n",
            "A parameter name that contains `beta` will be renamed internally to `bias`. Please use a different name to suppress this warning.\n",
            "A parameter name that contains `gamma` will be renamed internally to `weight`. Please use a different name to suppress this warning.\n",
            "A parameter name that contains `beta` will be renamed internally to `bias`. Please use a different name to suppress this warning.\n",
            "A parameter name that contains `gamma` will be renamed internally to `weight`. Please use a different name to suppress this warning.\n",
            "A parameter name that contains `beta` will be renamed internally to `bias`. Please use a different name to suppress this warning.\n",
            "A parameter name that contains `gamma` will be renamed internally to `weight`. Please use a different name to suppress this warning.\n",
            "A parameter name that contains `beta` will be renamed internally to `bias`. Please use a different name to suppress this warning.\n",
            "A parameter name that contains `gamma` will be renamed internally to `weight`. Please use a different name to suppress this warning.\n",
            "A parameter name that contains `beta` will be renamed internally to `bias`. Please use a different name to suppress this warning.\n",
            "A parameter name that contains `gamma` will be renamed internally to `weight`. Please use a different name to suppress this warning.\n",
            "A parameter name that contains `beta` will be renamed internally to `bias`. Please use a different name to suppress this warning.\n",
            "A parameter name that contains `gamma` will be renamed internally to `weight`. Please use a different name to suppress this warning.\n",
            "A parameter name that contains `beta` will be renamed internally to `bias`. Please use a different name to suppress this warning.\n",
            "A parameter name that contains `gamma` will be renamed internally to `weight`. Please use a different name to suppress this warning.\n",
            "A parameter name that contains `beta` will be renamed internally to `bias`. Please use a different name to suppress this warning.\n",
            "A parameter name that contains `gamma` will be renamed internally to `weight`. Please use a different name to suppress this warning.\n",
            "A parameter name that contains `beta` will be renamed internally to `bias`. Please use a different name to suppress this warning.\n",
            "A parameter name that contains `gamma` will be renamed internally to `weight`. Please use a different name to suppress this warning.\n",
            "A parameter name that contains `beta` will be renamed internally to `bias`. Please use a different name to suppress this warning.\n",
            "A parameter name that contains `gamma` will be renamed internally to `weight`. Please use a different name to suppress this warning.\n",
            "Some weights of ElectraForCausalLM were not initialized from the model checkpoint at google/electra-small-discriminator and are newly initialized: ['generator_lm_head.bias', 'generator_predictions.LayerNorm.bias', 'generator_predictions.LayerNorm.weight', 'generator_predictions.dense.bias', 'generator_predictions.dense.weight']\n",
            "You should probably TRAIN this model on a down-stream task to be able to use it for predictions and inference.\n",
            "A parameter name that contains `gamma` will be renamed internally to `weight`. Please use a different name to suppress this warning.\n",
            "A parameter name that contains `beta` will be renamed internally to `bias`. Please use a different name to suppress this warning.\n",
            "A parameter name that contains `gamma` will be renamed internally to `weight`. Please use a different name to suppress this warning.\n",
            "A parameter name that contains `beta` will be renamed internally to `bias`. Please use a different name to suppress this warning.\n",
            "A parameter name that contains `beta` will be renamed internally to `bias`. Please use a different name to suppress this warning.\n",
            "A parameter name that contains `gamma` will be renamed internally to `weight`. Please use a different name to suppress this warning.\n",
            "A parameter name that contains `beta` will be renamed internally to `bias`. Please use a different name to suppress this warning.\n",
            "A parameter name that contains `beta` will be renamed internally to `bias`. Please use a different name to suppress this warning.\n",
            "A parameter name that contains `beta` will be renamed internally to `bias`. Please use a different name to suppress this warning.\n",
            "A parameter name that contains `gamma` will be renamed internally to `weight`. Please use a different name to suppress this warning.\n",
            "A parameter name that contains `beta` will be renamed internally to `bias`. Please use a different name to suppress this warning.\n",
            "A parameter name that contains `gamma` will be renamed internally to `weight`. Please use a different name to suppress this warning.\n",
            "A parameter name that contains `gamma` will be renamed internally to `weight`. Please use a different name to suppress this warning.\n",
            "A parameter name that contains `gamma` will be renamed internally to `weight`. Please use a different name to suppress this warning.\n",
            "A parameter name that contains `beta` will be renamed internally to `bias`. Please use a different name to suppress this warning.\n",
            "A parameter name that contains `gamma` will be renamed internally to `weight`. Please use a different name to suppress this warning.\n",
            "A parameter name that contains `gamma` will be renamed internally to `weight`. Please use a different name to suppress this warning.\n",
            "A parameter name that contains `beta` will be renamed internally to `bias`. Please use a different name to suppress this warning.\n",
            "A parameter name that contains `gamma` will be renamed internally to `weight`. Please use a different name to suppress this warning.\n",
            "A parameter name that contains `beta` will be renamed internally to `bias`. Please use a different name to suppress this warning.\n",
            "A parameter name that contains `gamma` will be renamed internally to `weight`. Please use a different name to suppress this warning.\n",
            "A parameter name that contains `gamma` will be renamed internally to `weight`. Please use a different name to suppress this warning.\n",
            "A parameter name that contains `beta` will be renamed internally to `bias`. Please use a different name to suppress this warning.\n",
            "A parameter name that contains `beta` will be renamed internally to `bias`. Please use a different name to suppress this warning.\n",
            "A parameter name that contains `beta` will be renamed internally to `bias`. Please use a different name to suppress this warning.\n",
            "A parameter name that contains `beta` will be renamed internally to `bias`. Please use a different name to suppress this warning.\n",
            "A parameter name that contains `beta` will be renamed internally to `bias`. Please use a different name to suppress this warning.\n",
            "A parameter name that contains `beta` will be renamed internally to `bias`. Please use a different name to suppress this warning.\n",
            "A parameter name that contains `gamma` will be renamed internally to `weight`. Please use a different name to suppress this warning.\n",
            "A parameter name that contains `beta` will be renamed internally to `bias`. Please use a different name to suppress this warning.\n",
            "A parameter name that contains `gamma` will be renamed internally to `weight`. Please use a different name to suppress this warning.\n",
            "A parameter name that contains `gamma` will be renamed internally to `weight`. Please use a different name to suppress this warning.\n",
            "A parameter name that contains `gamma` will be renamed internally to `weight`. Please use a different name to suppress this warning.\n",
            "A parameter name that contains `beta` will be renamed internally to `bias`. Please use a different name to suppress this warning.\n",
            "A parameter name that contains `gamma` will be renamed internally to `weight`. Please use a different name to suppress this warning.\n",
            "A parameter name that contains `beta` will be renamed internally to `bias`. Please use a different name to suppress this warning.\n",
            "A parameter name that contains `beta` will be renamed internally to `bias`. Please use a different name to suppress this warning.\n",
            "A parameter name that contains `gamma` will be renamed internally to `weight`. Please use a different name to suppress this warning.\n",
            "A parameter name that contains `beta` will be renamed internally to `bias`. Please use a different name to suppress this warning.\n",
            "A parameter name that contains `beta` will be renamed internally to `bias`. Please use a different name to suppress this warning.\n",
            "A parameter name that contains `beta` will be renamed internally to `bias`. Please use a different name to suppress this warning.\n",
            "A parameter name that contains `gamma` will be renamed internally to `weight`. Please use a different name to suppress this warning.\n",
            "A parameter name that contains `gamma` will be renamed internally to `weight`. Please use a different name to suppress this warning.\n",
            "A parameter name that contains `beta` will be renamed internally to `bias`. Please use a different name to suppress this warning.\n",
            "A parameter name that contains `gamma` will be renamed internally to `weight`. Please use a different name to suppress this warning.\n",
            "A parameter name that contains `beta` will be renamed internally to `bias`. Please use a different name to suppress this warning.\n",
            "A parameter name that contains `gamma` will be renamed internally to `weight`. Please use a different name to suppress this warning.\n",
            "A parameter name that contains `gamma` will be renamed internally to `weight`. Please use a different name to suppress this warning.\n",
            "A parameter name that contains `gamma` will be renamed internally to `weight`. Please use a different name to suppress this warning.\n",
            "A parameter name that contains `gamma` will be renamed internally to `weight`. Please use a different name to suppress this warning.\n",
            "Some weights of ErnieForCausalLM were not initialized from the model checkpoint at nghuyong/ernie-2.0-base-en and are newly initialized: ['cls.predictions.bias', 'cls.predictions.decoder.bias', 'cls.predictions.transform.LayerNorm.bias', 'cls.predictions.transform.LayerNorm.weight', 'cls.predictions.transform.dense.bias', 'cls.predictions.transform.dense.weight']\n",
            "You should probably TRAIN this model on a down-stream task to be able to use it for predictions and inference.\n",
            "Some weights of PegasusForCausalLM were not initialized from the model checkpoint at google/pegasus-xsum and are newly initialized: ['model.decoder.embed_positions.weight']\n",
            "You should probably TRAIN this model on a down-stream task to be able to use it for predictions and inference.\n",
            "If you want to use `BigBirdForCausalLM` as a standalone, add `is_decoder=True.`\n",
            "emoji is not installed, thus not converting emoticons or emojis into text. Install emoji: pip3 install emoji==0.6.0\n",
            "/usr/local/lib/python3.10/dist-packages/transformers/models/marian/tokenization_marian.py:175: UserWarning: Recommended: pip install sacremoses.\n",
            "  warnings.warn(\"Recommended: pip install sacremoses.\")\n"
          ]
        }
      ],
      "source": [
        "import torch\n",
        "from transformers import AutoTokenizer, AutoModelForCausalLM, AutoModelForSequenceClassification\n",
        "from itertools import combinations\n",
        "\n",
        "tokenizer_tinybert = AutoTokenizer.from_pretrained(\"prajjwal1/bert-tiny\")\n",
        "model_tinybert = AutoModelForCausalLM.from_pretrained(\"prajjwal1/bert-tiny\").to(\"cuda\")\n",
        "\n",
        "#tokenizer_distilgpt2 = AutoTokenizer.from_pretrained(\"distilbert/distilgpt2\")\n",
        "#model_distilgpt2 = AutoModelForCausalLM.from_pretrained(\"distilbert/distilgpt2\").to(\"cuda\")\n",
        "\n",
        "#tokenizer_gpt2 = AutoTokenizer.from_pretrained(\"gpt2\")\n",
        "#model_gpt2 = AutoModelForCausalLM.from_pretrained(\"gpt2\").to(\"cuda\")\n",
        "\n",
        "tokenizer_bert = AutoTokenizer.from_pretrained(\"bert-base-uncased\")\n",
        "model_bert = AutoModelForCausalLM.from_pretrained(\"bert-base-uncased\", is_decoder=True).to(\"cuda\")\n",
        "\n",
        "#tokenizer_distilbert = AutoTokenizer.from_pretrained(\"distilbert/distilbert-base-uncased\")\n",
        "#model_distilbert = AutoModelForCausalLM.from_pretrained(\"distilbert/distilbert-base-uncased\").to(\"cuda\")\n",
        "\n",
        "tokenizer_electra = AutoTokenizer.from_pretrained(\"google/electra-small-discriminator\")\n",
        "model_electra = AutoModelForCausalLM.from_pretrained(\"google/electra-small-discriminator\", is_decoder=True).to(\"cuda\")\n",
        "\n",
        "tokenizer_xlnet = AutoTokenizer.from_pretrained(\"xlnet/xlnet-base-cased\")\n",
        "model_xlnet = AutoModelForCausalLM.from_pretrained(\"xlnet/xlnet-base-cased\").to(\"cuda\")\n",
        "\n",
        "tokenizer_roberta = AutoTokenizer.from_pretrained(\"FacebookAI/roberta-base\")\n",
        "model_roberta = AutoModelForCausalLM.from_pretrained(\"FacebookAI/roberta-base\", is_decoder=True).to(\"cuda\")\n",
        "\n",
        "tokenizer_ernie = AutoTokenizer.from_pretrained(\"nghuyong/ernie-2.0-base-en\")\n",
        "model_ernie = AutoModelForCausalLM.from_pretrained(\"nghuyong/ernie-2.0-base-en\", is_decoder=True).to(\"cuda\")\n",
        "\n",
        "tokenizer_pegasus = AutoTokenizer.from_pretrained(\"google/pegasus-xsum\")\n",
        "model_pegasus = AutoModelForCausalLM.from_pretrained(\"google/pegasus-xsum\", is_decoder=True).to(\"cuda\")\n",
        "\n",
        "tokenizer_bigbird = AutoTokenizer.from_pretrained(\"google/bigbird-roberta-base\", is_decoder=True)\n",
        "model_bigbird = AutoModelForCausalLM.from_pretrained(\"google/bigbird-roberta-base\").to(\"cuda\")\n",
        "\n",
        "tokenizer_camembert = AutoTokenizer.from_pretrained(\"almanach/camembert-base\")\n",
        "model_camembert = AutoModelForCausalLM.from_pretrained(\"almanach/camembert-base\", is_decoder=True).to(\"cuda\")\n",
        "\n",
        "#tokenizer_bart = AutoTokenizer.from_pretrained(\"facebook/bart-base\")\n",
        "#model_bart = AutoModelForCausalLM.from_pretrained(\"facebook/bart-base\", is_decoder=True).to(\"cuda\")\n",
        "\n",
        "# FIXME!!!!!\n",
        "tokenizer_bart = AutoTokenizer.from_pretrained(\"prajjwal1/bert-medium\")\n",
        "model_bart = AutoModelForCausalLM.from_pretrained(\"prajjwal1/bert-medium\", is_decoder=True).to(\"cuda\")\n",
        "\n",
        "tokenizer_blenderbot = AutoTokenizer.from_pretrained(\"facebook/blenderbot-400M-distill\")\n",
        "model_blenderbot = AutoModelForCausalLM.from_pretrained(\"facebook/blenderbot-400M-distill\", is_decoder=True).to(\"cuda\")\n",
        "\n",
        "tokenizer_birtweet = AutoTokenizer.from_pretrained(\"vinai/bertweet-base\")\n",
        "model_birtweet = AutoModelForCausalLM.from_pretrained(\"vinai/bertweet-base\", is_decoder=True).to(\"cuda\")\n",
        "\n",
        "tokenizer_plbart = AutoTokenizer.from_pretrained(\"uclanlp/plbart-base\")\n",
        "model_plbart = AutoModelForCausalLM.from_pretrained(\"uclanlp/plbart-base\", is_decoder=True).to(\"cuda\")\n",
        "\n",
        "tokenizer_blenderbotsmall = AutoTokenizer.from_pretrained(\"facebook/blenderbot_small-90M\")\n",
        "model_blenderbotsmall = AutoModelForCausalLM.from_pretrained(\"facebook/blenderbot_small-90M\", is_decoder=True).to(\"cuda\")\n",
        "\n",
        "tokenizer_marianmt = AutoTokenizer.from_pretrained(\"Helsinki-NLP/opus-mt-en-roa\")\n",
        "model_marianmt = AutoModelForCausalLM.from_pretrained(\"Helsinki-NLP/opus-mt-en-roa\", is_decoder=True).to(\"cuda\")\n",
        "\n",
        "#tokenizer_opt = AutoTokenizer.from_pretrained(\"facebook/opt-350m\")\n",
        "#model_opt = AutoModelForCausalLM.from_pretrained(\"facebook/opt-350m\", is_decoder=True).to(\"cuda\")\n",
        "\n",
        "#tokenizer_roformer = AutoTokenizer.from_pretrained(\"junnyu/roformer_chinese_base\")\n",
        "#model_roformer = AutoModelForCausalLM.from_pretrained(\"junnyu/roformer_chinese_base\", is_decoder=True).to(\"cuda\")\n",
        "\n",
        "#tokenizer_gpt = AutoTokenizer.from_pretrained(\"openai-community/openai-gpt\")\n",
        "#model_gpt = AutoModelForCausalLM.from_pretrained(\"openai-community/openai-gpt\").to(\"cuda\")\n",
        "\n",
        "tokenizer_smallbert = AutoTokenizer.from_pretrained(\"prajjwal1/bert-small\")\n",
        "model_smallbert = AutoModelForCausalLM.from_pretrained(\"prajjwal1/bert-small\", is_decoder=True).to(\"cuda\")\n",
        "\n",
        "tokenizer_minibert = AutoTokenizer.from_pretrained(\"prajjwal1/bert-mini\")\n",
        "model_minibert = AutoModelForCausalLM.from_pretrained(\"prajjwal1/bert-mini\", is_decoder=True).to(\"cuda\")"
      ]
    },
    {
      "cell_type": "code",
      "execution_count": null,
      "metadata": {
        "colab": {
          "background_save": true
        },
        "id": "Y57oUgi9plZx"
      },
      "outputs": [],
      "source": [
        "tokenizers = []\n",
        "models = []\n",
        "\n",
        "tokenizers.append(tokenizer_tinybert)\n",
        "#tokenizers.append(tokenizer_distilgpt2)\n",
        "tokenizers.append(tokenizer_bert)\n",
        "tokenizers.append(tokenizer_electra)\n",
        "tokenizers.append(tokenizer_xlnet)\n",
        "tokenizers.append(tokenizer_roberta)\n",
        "tokenizers.append(tokenizer_ernie)\n",
        "tokenizers.append(tokenizer_pegasus)\n",
        "tokenizers.append(tokenizer_bigbird)\n",
        "tokenizers.append(tokenizer_camembert)\n",
        "tokenizers.append(tokenizer_bart)\n",
        "tokenizers.append(tokenizer_blenderbot)\n",
        "tokenizers.append(tokenizer_birtweet)\n",
        "tokenizers.append(tokenizer_plbart)\n",
        "tokenizers.append(tokenizer_blenderbotsmall)\n",
        "tokenizers.append(tokenizer_marianmt)\n",
        "#tokenizers.append(tokenizer_opt)\n",
        "#tokenizers.append(tokenizer_gpt)\n",
        "tokenizers.append(tokenizer_smallbert)\n",
        "tokenizers.append(tokenizer_minibert)\n",
        "\n",
        "models.append(model_tinybert)\n",
        "#models.append(model_distilgpt2)\n",
        "models.append(model_bert)\n",
        "models.append(model_electra)\n",
        "models.append(model_xlnet)\n",
        "models.append(model_roberta)\n",
        "models.append(model_ernie)\n",
        "models.append(model_pegasus)\n",
        "models.append(model_bigbird)\n",
        "models.append(model_camembert)\n",
        "models.append(model_bart)\n",
        "models.append(model_blenderbot)\n",
        "models.append(model_birtweet)\n",
        "models.append(model_plbart)\n",
        "models.append(model_blenderbotsmall)\n",
        "models.append(model_marianmt)\n",
        "#models.append(model_opt)\n",
        "#models.append(model_gpt)\n",
        "models.append(model_smallbert)\n",
        "models.append(model_minibert)"
      ]
    },
    {
      "cell_type": "code",
      "execution_count": null,
      "metadata": {
        "colab": {
          "background_save": true
        },
        "id": "MddXxXySpUMi",
        "outputId": "534b9ac5-b6d2-4117-ce43-4356b1cd2492"
      },
      "outputs": [
        {
          "data": {
            "text/plain": [
              "73546"
            ]
          },
          "execution_count": 9,
          "metadata": {},
          "output_type": "execute_result"
        }
      ],
      "source": [
        "len(train_dataset)"
      ]
    },
    {
      "cell_type": "code",
      "execution_count": null,
      "metadata": {
        "colab": {
          "background_save": true
        },
        "id": "Lc7Z5dPozwTF",
        "outputId": "7872b8b9-3c21-45ab-f956-92dbf54d1e15"
      },
      "outputs": [
        {
          "data": {
            "text/plain": [
              "{'video-id': 'anetv_pmbHoeudjKc',\n",
              " 'fold-ind': '5514',\n",
              " 'startphrase': 'A man is standing on a track. The man',\n",
              " 'sent1': 'A man is standing on a track.',\n",
              " 'sent2': 'The man',\n",
              " 'gold-source': 'gold',\n",
              " 'ending0': 'spins around and then lifted the pole.',\n",
              " 'ending1': 'runs on the track, jumps, and lands in a sand box.',\n",
              " 'ending2': 'is running down the track.',\n",
              " 'ending3': 'spins around and throws a white ball.',\n",
              " 'label': 1}"
            ]
          },
          "execution_count": 10,
          "metadata": {},
          "output_type": "execute_result"
        }
      ],
      "source": [
        "train_dataset[4030]"
      ]
    },
    {
      "cell_type": "code",
      "execution_count": null,
      "metadata": {
        "colab": {
          "background_save": true
        },
        "id": "-LFoGUzgoCQz",
        "outputId": "29dc8268-b585-43e9-ca0a-6eb5f8a60f2d"
      },
      "outputs": [
        {
          "name": "stdout",
          "output_type": "stream",
          "text": [
            "  Installing build dependencies ... \u001b[?25l\u001b[?25hdone\n",
            "  Getting requirements to build wheel ... \u001b[?25l\u001b[?25hdone\n",
            "  Preparing metadata (pyproject.toml) ... \u001b[?25l\u001b[?25hdone\n"
          ]
        }
      ],
      "source": [
        "import torch\n",
        "\n",
        "# Get the major and minor version of the current CUDA device (GPU)\n",
        "major_version, minor_version = torch.cuda.get_device_capability()\n",
        "\n",
        "# Apply the following if the GPU has Ampere or Hopper architecture (RTX 30xx, RTX 40xx, A100, H100, L40, etc.)\n",
        "if major_version >= 8:\n",
        "    # Install the Unsloth library for Ampere and Hopper architecture from GitHub\n",
        "    !pip install \"unsloth[colab_ampere] @ git+https://github.com/unslothai/unsloth.git\" -q\n",
        "\n",
        "# Apply the following for older GPUs (V100, Tesla T4, RTX 20xx, etc.)\n",
        "else:\n",
        "    # Install the Unsloth library for older GPUs from GitHub\n",
        "    !pip install \"unsloth[colab] @ git+https://github.com/unslothai/unsloth.git\" -q"
      ]
    },
    {
      "cell_type": "code",
      "execution_count": null,
      "metadata": {
        "id": "2RkPYyCJr1OZ"
      },
      "outputs": [],
      "source": [
        "from unsloth import FastLanguageModel\n",
        "import torch\n",
        "max_seq_length = 2048 # Choose any! We auto support RoPE Scaling internally!\n",
        "dtype = None # None for auto detection. Float16 for Tesla T4, V100, Bfloat16 for Ampere+\n",
        "load_in_4bit = True # Use 4bit quantization to reduce memory usage. Can be False.\n",
        "\n",
        "# 4bit pre quantized models we support for 4x faster downloading + no OOMs.\n",
        "fourbit_models = [\n",
        "    \"unsloth/mistral-7b-bnb-4bit\",\n",
        "    \"unsloth/mistral-7b-instruct-v0.2-bnb-4bit\",\n",
        "    \"unsloth/llama-2-7b-bnb-4bit\",\n",
        "    \"unsloth/llama-2-13b-bnb-4bit\",\n",
        "    \"unsloth/codellama-34b-bnb-4bit\",\n",
        "    \"unsloth/tinyllama-bnb-4bit\",\n",
        "    \"unsloth/gemma-7b-bnb-4bit\", # New Google 6 trillion tokens model 2.5x faster!\n",
        "    \"unsloth/gemma-2b-bnb-4bit\",\n",
        "] # More models at https://huggingface.co/unsloth\n",
        "\n",
        "model_mistral, tokenizer_mistral = FastLanguageModel.from_pretrained(\n",
        "    model_name = \"unsloth/mistral-7b-bnb-4bit\", # Choose ANY! eg teknium/OpenHermes-2.5-Mistral-7B\n",
        "    max_seq_length = max_seq_length,\n",
        "    dtype = dtype,\n",
        "    load_in_4bit = load_in_4bit,\n",
        "    # token = \"hf_...\", # use one if using gated models like meta-llama/Llama-2-7b-hf\n",
        ")\n",
        "\n",
        "model_tinyllama, tokenizer_tinyllama = FastLanguageModel.from_pretrained(\n",
        "    model_name = \"unsloth/tinyllama-bnb-4bit\",\n",
        "    max_seq_length = max_seq_length,\n",
        "    dtype = dtype,\n",
        "    load_in_4bit = load_in_4bit,\n",
        "    # token = \"hf_...\", # use one if using gated models like meta-llama/Llama-2-7b-hf\n",
        ")"
      ]
    },
    {
      "cell_type": "code",
      "execution_count": null,
      "metadata": {
        "id": "x8Ob9V-isNBH"
      },
      "outputs": [],
      "source": [
        "alpaca_prompt = \"\"\"Below is an instruction that describes a task, paired with an input that provides further context. Write a response that appropriately completes the request.\n",
        "\n",
        "### Instruction:\n",
        "{}\n",
        "\n",
        "### Input:\n",
        "{}\n",
        "\n",
        "### Response:\n",
        "{}\"\"\"\n",
        "\n",
        "FastLanguageModel.for_inference(model_mistral) # Enable native 2x faster inference\n",
        "inputs = tokenizer_mistral(\n",
        "[\n",
        "    alpaca_prompt.format(\n",
        "        \"Continue the fibonnaci sequence.\", # instruction\n",
        "        \"1, 1, 2, 3, 5, 8\", # input\n",
        "        \"\", # output - leave this blank for generation!\n",
        "    )\n",
        "], return_tensors = \"pt\").to(\"cuda\")\n",
        "\n",
        "outputs = model_mistral.generate(**inputs,\n",
        "                                 max_new_tokens = 64,\n",
        "                                 use_cache = True,\n",
        "                                 temperature=0.9,\n",
        "                                 output_scores=True,\n",
        "                                 #do_sample=True,\n",
        "                                 #num_return_sequences=3,\n",
        "                                 #return_dict_in_generate=True\n",
        "                                 )\n",
        "\n",
        "tokenizer_mistral.batch_decode(outputs)"
      ]
    },
    {
      "cell_type": "code",
      "execution_count": null,
      "metadata": {
        "id": "GZsl3hSFYg0R"
      },
      "outputs": [],
      "source": []
    },
    {
      "cell_type": "code",
      "execution_count": null,
      "metadata": {
        "id": "6RLUoAson0HO"
      },
      "outputs": [],
      "source": [
        "def predict_weak_option(prompt, options, tokenizer, model):\n",
        "    scores = []\n",
        "    for option in options:\n",
        "        # Combine prompt and option into a single sequence\n",
        "        input_sequence = prompt + \" \" + option\n",
        "        # Tokenize the input sequence\n",
        "        tokenized_input = tokenizer.encode(input_sequence, return_tensors=\"pt\").to(\"cuda\")\n",
        "        # Generate output with GPT-2\n",
        "        with torch.no_grad():\n",
        "            outputs = model(tokenized_input, labels=tokenized_input)\n",
        "            loss = outputs.loss\n",
        "            scores.append(loss.item())\n",
        "    # Assuming lower loss (higher likelihood) indicates a better option\n",
        "    most_likely_option_index = scores.index(min(scores))\n",
        "    return most_likely_option_index"
      ]
    },
    {
      "cell_type": "code",
      "execution_count": null,
      "metadata": {
        "id": "MrFsUWZy0j3e"
      },
      "outputs": [],
      "source": [
        "def predict_strong_option(prompt, options, tokenizer, model, behavior):\n",
        "    if behavior == \"weak\":\n",
        "        modified_prompt = \"Behave like a weak model while responding to the question: \" + prompt\n",
        "    else:\n",
        "        # For strong behavior, use the prompt as is\n",
        "        modified_prompt = prompt\n",
        "\n",
        "    #print(modified_prompt)\n",
        "\n",
        "    scores = []\n",
        "    for option in options:\n",
        "        # Combine prompt and option into a single sequence\n",
        "        input_sequence = modified_prompt + \" \" + option\n",
        "        # Tokenize the input sequence\n",
        "        tokenized_input = tokenizer.encode(input_sequence, return_tensors=\"pt\").to(\"cuda\")\n",
        "        # Generate output with GPT-2\n",
        "        with torch.no_grad():\n",
        "            outputs = model(tokenized_input, labels=tokenized_input)\n",
        "            loss = outputs.loss\n",
        "            scores.append(loss.item())\n",
        "    # Assuming lower loss (higher likelihood) indicates a better option\n",
        "    most_likely_option_index = scores.index(min(scores))\n",
        "    return most_likely_option_index"
      ]
    },
    {
      "cell_type": "code",
      "execution_count": null,
      "metadata": {
        "id": "CGz3QXrgydlN"
      },
      "outputs": [],
      "source": [
        "from collections import Counter\n",
        "from random import randrange\n",
        "from google.colab import files\n",
        "\n",
        "# Create a file to save the output\n",
        "output_file = open(\"swag_train_pairs_19.txt\", \"a\")\n",
        "#output_file.write(\"prompt, pair, label, mistral_ans, tinyllama_ans, tinybert_ans, bert_ans, electra_ans, xlnet_ans, roberta_ans, ernie_ans, pegasus_ans, bigbird_ans, camembert_ans, bart_ans, blenderbot_ans, bertweet_ans, plbart_ans, blenderbotsmall_ans, marianmt_ans, smallbert_ans, minibert_ans, mistral_pred, tinyllama_pred, tinybert_pred, bert_pred, electra_pred, xlnet_pred, roberta_pred, ernie_pred, pegasus_pred, bigbird_pred, camembert_pred, bart_pred, blenderbot_pred, bertweet_pred, plbart_pred, blenderbotsmall_pred, marianmt_pred, smallbert, minibert\")\n",
        "output_file.write(\"\\n\")\n",
        "\n",
        "correct_pairs_mistral = 0\n",
        "correct_pairs_tinyllama = 0\n",
        "correct_pairs_weak = [0 for i in range(17)]\n",
        "\n",
        "# Iterate through the evaluation dataset\n",
        "for i, example in enumerate(train_dataset):\n",
        "    if (i >= 10000 or i < 4030):\n",
        "      continue\n",
        "\n",
        "    print('row {}'.format(i))\n",
        "\n",
        "    prompt = example[\"startphrase\"]\n",
        "    label=example[\"label\"]  # The correct option index\n",
        "    options = [example[f\"ending{i}\"] for i in range(4)]  # Adjust based on your dataset structure\n",
        "    # Generate all possible pairs of options\n",
        "    option_pairs = [pair for pair in combinations(options, 2) if options[label] in pair]\n",
        "    pair_list=[]\n",
        "\n",
        "    for pair in option_pairs:\n",
        "\n",
        "      output_file.write(\"{}, \".format(prompt))\n",
        "      output_file.write(\"{}, \".format(pair))\n",
        "      #print(pair)\n",
        "      most_likely_option_index_list=[]\n",
        "\n",
        "      label_index = pair.index(options[label])\n",
        "      output_file.write(\"{}, \".format(label_index))\n",
        "\n",
        "      for j in range(19):\n",
        "          #print(pair)\n",
        "          # Predict the most likely option\n",
        "        if (j == 0):\n",
        "          most_likely_option_index = predict_strong_option(prompt, pair, tokenizer_mistral, model_mistral, \"normal\")\n",
        "        elif (j == 1):\n",
        "          most_likely_option_index = predict_strong_option(prompt, pair, tokenizer_tinyllama, model_tinyllama, \"normal\")\n",
        "        else:\n",
        "          most_likely_option_index = predict_weak_option(prompt, pair, tokenizers[j - 2], models[j - 2])\n",
        "        pair_list.append(pair)\n",
        "\n",
        "        output_file.write(\"{}, \".format(most_likely_option_index))\n",
        "\n",
        "        most_likely_option_index_list.append(most_likely_option_index)\n",
        "          #print(options[label])\n",
        "          #print(options[most_likely_option_index])\n",
        "        if (options[label] == pair[most_likely_option_index]):\n",
        "          if (j == 0):\n",
        "            correct_pairs_mistral += 1\n",
        "          elif (j == 1):\n",
        "            correct_pairs_tinyllama += 1\n",
        "          else:\n",
        "            correct_pairs_weak[j - 2] += 1\n",
        "\n",
        "      for j in range(19):\n",
        "        weak_pred_index = randrange(17)\n",
        "        weak_pred = most_likely_option_index_list[weak_pred_index + 2]\n",
        "        output_file.write(\"{}, \".format(weak_pred))\n",
        "\n",
        "      output_file.write(\"\\n\")\n",
        "\n",
        "    #print(correct_pairs_mistral)\n",
        "    #print(correct_pairs_tinyllama)\n",
        "    #print(correct_pairs_weak)\n",
        "\n",
        "    #print()\n",
        "output_file.close()\n",
        "\n",
        "f = open('swag_train_pairs_19.txt', 'r')\n",
        "files.download('swag_train_pairs_19.txt')"
      ]
    },
    {
      "cell_type": "code",
      "execution_count": null,
      "metadata": {
        "id": "xH-6ekxy09ta"
      },
      "outputs": [],
      "source": [
        "train_dataset[0]"
      ]
    },
    {
      "cell_type": "code",
      "execution_count": null,
      "metadata": {
        "id": "zREwswWWrbdg"
      },
      "outputs": [],
      "source": [
        "print(correct_pairs_mistral)\n",
        "print(correct_pairs_tinyllama)\n",
        "print(correct_pairs_weak)\n",
        "#print(most_likely_option_index_list)"
      ]
    },
    {
      "cell_type": "markdown",
      "metadata": {
        "id": "cwDIECLbjGil"
      },
      "source": [
        "Correct pairs for Mistral: 0.89 (out of 3000)\n",
        "\n",
        "Correct pairs for Mistral as weak: 2578 / 3000 = 0.8593\n",
        "\n",
        "Correct pairs for Mistral as GPT2: 2641 / 3000 = 0.8803\n",
        "\n",
        "Correct pairs for GPT2: 0.734 (out of 3000)\n",
        "```\n",
        "# This is formatted as code\n",
        "```\n",
        "\n"
      ]
    },
    {
      "cell_type": "code",
      "execution_count": null,
      "metadata": {
        "id": "tHxqTOWOPn-r"
      },
      "outputs": [],
      "source": [
        "alpaca_prompt = \"\"\"Below is an instruction that describes a task, paired with an input that provides further context. Write a response that appropriately completes the request.\n",
        "\n",
        "### Instruction:\n",
        "{}\n",
        "\n",
        "### Input:\n",
        "{}\n",
        "\n",
        "### Percent:\n",
        "{}\"\"\"\n",
        "\n",
        "FastLanguageModel.for_inference(model_mistral) # Enable native 2x faster inference\n",
        "inputs = tokenizer_mistral(\n",
        "[\n",
        "    alpaca_prompt.format(\n",
        "        \"\"\"What percentage of weak language models will choose option (A) as the most logical text.\n",
        "        \"\"\", # instruction\n",
        "\n",
        "        \"\"\"\n",
        "        (A) Students lower their eyes nervously. She turns with two students.\n",
        "        (B) Students lower their eyes nervously. She walks slowly towards someone.\n",
        "        \"\"\", # input\n",
        "\n",
        "        \"\", # output - leave this blank for generation!\n",
        "    )\n",
        "], return_tensors = \"pt\").to(\"cuda\")\n",
        "\n",
        "outputs = model_mistral.generate(**inputs, max_new_tokens = 12, use_cache = True)\n",
        "tokenizer_mistral.batch_decode(outputs)"
      ]
    },
    {
      "cell_type": "code",
      "execution_count": null,
      "metadata": {
        "id": "JuS2p44V2n_i"
      },
      "outputs": [],
      "source": [
        "prompt = \"Students lower their eyes nervously. She \"\n",
        "pair = [\"turns with two students.\", \"walks slowly towards someone.\"]\n",
        "\n",
        "correct_pairs_mistral_weak = 0\n",
        "\n",
        "for i in range(100):\n",
        "  most_likely_option_index_mistral_weak = predict_mistral_option(prompt, pair2, \"weak\")\n",
        "  #pair_list.append(pair)\n",
        "  #most_likely_option_index_list.append(most_likely_option_index_mistral_gpt2)\n",
        "  if (most_likely_option_index_mistral_weak == 1):\n",
        "      correct_pairs_mistral_weak += 1\n",
        "\n",
        "print(correct_pairs_mistral_weak)"
      ]
    },
    {
      "cell_type": "code",
      "execution_count": null,
      "metadata": {
        "id": "KAEgfUWT_ct7"
      },
      "outputs": [],
      "source": [
        "eval_dataset[1]"
      ]
    },
    {
      "cell_type": "code",
      "execution_count": null,
      "metadata": {
        "id": "n4i1GrBpAZ4a"
      },
      "outputs": [],
      "source": [
        "alpaca_prompt = \"\"\"Below is an instruction that describes a task, paired with an input that provides further context. Write a response that appropriately completes the request.\n",
        "\n",
        "### Instruction:\n",
        "{}\n",
        "\n",
        "### Input:\n",
        "{}\n",
        "\n",
        "### Percent:\n",
        "{}\"\"\"\n",
        "\n",
        "FastLanguageModel.for_inference(model_mistral) # Enable native 2x faster inference\n",
        "inputs = tokenizer_mistral(\n",
        "[\n",
        "    alpaca_prompt.format(\n",
        "        \"\"\"What percentage of weak language models will choose option (A) as the most logical text.\n",
        "        \"\"\", # instruction\n",
        "\n",
        "        \"\"\"\n",
        "        (A) He rides the motorcycle down the hall and into the elevator. He stops, listening to a cup of coffee with the seated woman, who's standing.\n",
        "        (B) He rides the motorcycle down the hall and into the elevator. He exits the building and rides the motorcycle into a casino where he performs several tricks as people watch.\n",
        "        \"\"\", # input\n",
        "\n",
        "        \"\", # output - leave this blank for generation!\n",
        "    )\n",
        "], return_tensors = \"pt\").to(\"cuda\")\n",
        "\n",
        "outputs = model_mistral.generate(**inputs, max_new_tokens = 12, use_cache = True)\n",
        "tokenizer_mistral.batch_decode(outputs)"
      ]
    },
    {
      "cell_type": "code",
      "execution_count": null,
      "metadata": {
        "id": "LCTZvp3jA8Ft"
      },
      "outputs": [],
      "source": [
        "prompt = \"He rides the motorcycle down the hall and into the elevator. He \"\n",
        "pair = [\"stops, listening to a cup of coffee with the seated woman, who's standing.\", \"exits the building and rides the motorcycle into a casino where he performs several tricks as people watch.\"]\n",
        "\n",
        "correct_pairs_mistral_weak = 0\n",
        "\n",
        "for i in range(100):\n",
        "  most_likely_option_index_mistral_weak = predict_mistral_option(prompt, pair2, \"weak\")\n",
        "  #pair_list.append(pair)\n",
        "  #most_likely_option_index_list.append(most_likely_option_index_mistral_gpt2)\n",
        "  if (most_likely_option_index_mistral_weak == 1):\n",
        "      correct_pairs_mistral_weak += 1\n",
        "\n",
        "print(correct_pairs_mistral_weak)"
      ]
    },
    {
      "cell_type": "code",
      "execution_count": null,
      "metadata": {
        "id": "Tp3hckD4B8Kk"
      },
      "outputs": [],
      "source": []
    },
    {
      "cell_type": "markdown",
      "metadata": {
        "id": "4ixoFS1R7CwR"
      },
      "source": [
        "Booyoung Hotel"
      ]
    },
    {
      "cell_type": "code",
      "execution_count": null,
      "metadata": {
        "id": "Q-WYYc397Nz6"
      },
      "outputs": [],
      "source": []
    }
  ],
  "metadata": {
    "accelerator": "GPU",
    "colab": {
      "gpuType": "A100",
      "provenance": []
    },
    "kernelspec": {
      "display_name": "Python 3",
      "name": "python3"
    },
    "language_info": {
      "name": "python"
    }
  },
  "nbformat": 4,
  "nbformat_minor": 0
}